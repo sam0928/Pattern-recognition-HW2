{
 "cells": [
  {
   "cell_type": "code",
   "execution_count": 1,
   "metadata": {
    "id": "FIxaTS4v7i7K"
   },
   "outputs": [],
   "source": [
    "from __future__ import print_function\n",
    "import keras\n",
    "from tensorflow.keras.utils import to_categorical\n",
    "from keras.datasets import mnist\n",
    "from keras.models import Sequential\n",
    "from keras.layers import Dense, Dropout, Flatten\n",
    "from keras.layers import Conv2D, MaxPooling2D\n",
    "from keras import backend as K\n",
    "from tensorflow.python.keras.utils.np_utils import to_categorical\n",
    "import matplotlib.pyplot as plt #匯入matplotlib.pyplot模組"
   ]
  },
  {
   "cell_type": "code",
   "execution_count": 2,
   "metadata": {
    "id": "fg0MpxbU7lU-"
   },
   "outputs": [
    {
     "name": "stdout",
     "output_type": "stream",
     "text": [
      "Downloading data from https://storage.googleapis.com/tensorflow/tf-keras-datasets/mnist.npz\n",
      "11490434/11490434 [==============================] - 35s 3us/step\n"
     ]
    }
   ],
   "source": [
    "# 定義梯度下降批量\n",
    "batch_size = 128\n",
    "# 定義分類數量\n",
    "num_classes = 10\n",
    "# 定義訓練週期\n",
    "epochs = 12\n",
    "\n",
    "# 定義圖像寬、高\n",
    "img_rows, img_cols = 28, 28\n",
    "\n",
    "# 載入 MNIST 訓練資料\n",
    "(x_train, y_train), (x_test, y_test) = mnist.load_data()\n",
    "\n",
    "# 保留原始資料，供 cross tab function 使用\n",
    "y_test_org = y_test"
   ]
  },
  {
   "cell_type": "code",
   "execution_count": 4,
   "metadata": {
    "id": "qhsbNSaxOy04"
   },
   "outputs": [],
   "source": [
    "#建立plot_image函數，顯示images數字影像\n",
    "def plot_image(image): #定義plot_image函數，傳入image作為參數\n",
    "    fig = plt.gcf() #設定顯示圖形的大小\n",
    "    fig.set_size_inches(2,2)\n",
    "    plt.imshow(image, cmap='binary') #傳入參數image、28*28像素的圖形，camp=\"binary\"表示以黑白色顯示\n",
    "    plt.show() #顯示圖片"
   ]
  },
  {
   "cell_type": "code",
   "execution_count": 5,
   "metadata": {
    "id": "JGoFdQmz7m3m"
   },
   "outputs": [],
   "source": [
    "# channels_first: 色彩通道(R/G/B)資料(深度)放在第2維度，第3、4維度放置寬與高\n",
    "if K.image_data_format() == 'channels_first':\n",
    "    x_train = x_train.reshape(x_train.shape[0], 1, img_rows, img_cols)\n",
    "    x_test = x_test.reshape(x_test.shape[0], 1, img_rows, img_cols)\n",
    "    input_shape = (1, img_rows, img_cols)\n",
    "else: # channels_last: 色彩通道(R/G/B)資料(深度)放在第4維度，第2、3維度放置寬與高\n",
    "    x_train = x_train.reshape(x_train.shape[0], img_rows, img_cols, 1)\n",
    "    x_test = x_test.reshape(x_test.shape[0], img_rows, img_cols, 1)\n",
    "    input_shape = (img_rows, img_cols, 1)\n",
    "\n",
    "# 轉換色彩 0~255 資料為 0~1\n",
    "x_train = x_train.astype('float32')\n",
    "x_test = x_test.astype('float32')\n",
    "x_train /= 255\n",
    "x_test /= 255\n",
    "\n",
    "# y 值轉成 one-hot encoding\n",
    "y_train = to_categorical(y_train, num_classes)\n",
    "y_test = to_categorical(y_test, num_classes)\n"
   ]
  },
  {
   "cell_type": "code",
   "execution_count": 6,
   "metadata": {
    "colab": {
     "base_uri": "https://localhost:8080/"
    },
    "id": "7iwWxeM77pVR",
    "outputId": "54fb9555-1112-4448-8852-efacb8ea70e0"
   },
   "outputs": [
    {
     "name": "stdout",
     "output_type": "stream",
     "text": [
      "Model: \"sequential\"\n",
      "_________________________________________________________________\n",
      " Layer (type)                Output Shape              Param #   \n",
      "=================================================================\n",
      " conv2d (Conv2D)             (None, 26, 26, 32)        320       \n",
      "                                                                 \n",
      " conv2d_1 (Conv2D)           (None, 24, 24, 64)        18496     \n",
      "                                                                 \n",
      " max_pooling2d (MaxPooling2D  (None, 12, 12, 64)       0         \n",
      " )                                                               \n",
      "                                                                 \n",
      " dropout (Dropout)           (None, 12, 12, 64)        0         \n",
      "                                                                 \n",
      " flatten (Flatten)           (None, 9216)              0         \n",
      "                                                                 \n",
      " dense (Dense)               (None, 256)               2359552   \n",
      "                                                                 \n",
      " dropout_1 (Dropout)         (None, 256)               0         \n",
      "                                                                 \n",
      " dense_1 (Dense)             (None, 10)                2570      \n",
      "                                                                 \n",
      "=================================================================\n",
      "Total params: 2,380,938\n",
      "Trainable params: 2,380,938\n",
      "Non-trainable params: 0\n",
      "_________________________________________________________________\n"
     ]
    }
   ],
   "source": [
    "# 建立簡單的線性執行的模型\n",
    "model = Sequential()\n",
    "# 建立卷積層，filter=32,即 output space 的深度, Kernal Size: 3x3, activation function 採用 relu\n",
    "model.add(Conv2D(32, kernel_size=(3, 3),\n",
    "                 activation='relu',\n",
    "                 input_shape=input_shape))\n",
    "# 建立卷積層，filter=64,即 output size, Kernal Size: 3x3, activation function 採用 relu\n",
    "model.add(Conv2D(64, (3, 3), activation='relu'))\n",
    "# 建立池化層，池化大小=2x2，取最大值\n",
    "model.add(MaxPooling2D(pool_size=(2, 2)))\n",
    "# Dropout層隨機斷開輸入神經元，用於防止過度擬合，斷開比例:0.25\n",
    "model.add(Dropout(0.25))\n",
    "# Flatten層把多維的輸入一維化，常用在從卷積層到全連接層的過渡。\n",
    "model.add(Flatten())\n",
    "# 全連接層: 128個output\n",
    "model.add(Dense(256, activation='relu'))\n",
    "# Dropout層隨機斷開輸入神經元，用於防止過度擬合，斷開比例:0.5\n",
    "model.add(Dropout(0.5))\n",
    "# 使用 softmax activation function，將結果分類\n",
    "model.add(Dense(num_classes, activation='softmax'))\n",
    "\n",
    "# 編譯: 選擇損失函數、優化方法及成效衡量方式\n",
    "model.compile(loss=keras.losses.categorical_crossentropy,\n",
    "              optimizer=keras.optimizers.Adam(),\n",
    "              metrics=['accuracy'])\n",
    "model.summary()"
   ]
  },
  {
   "cell_type": "code",
   "execution_count": 7,
   "metadata": {
    "colab": {
     "base_uri": "https://localhost:8080/"
    },
    "id": "lIwjCBEI7rnd",
    "outputId": "f87e4795-e76f-4965-f3b0-f1343760933b"
   },
   "outputs": [
    {
     "name": "stdout",
     "output_type": "stream",
     "text": [
      "Epoch 1/12\n",
      "469/469 [==============================] - 66s 138ms/step - loss: 0.1853 - accuracy: 0.9439 - val_loss: 0.0432 - val_accuracy: 0.9859\n",
      "Epoch 2/12\n",
      "469/469 [==============================] - 70s 148ms/step - loss: 0.0651 - accuracy: 0.9807 - val_loss: 0.0364 - val_accuracy: 0.9889\n",
      "Epoch 3/12\n",
      "469/469 [==============================] - 66s 140ms/step - loss: 0.0483 - accuracy: 0.9849 - val_loss: 0.0324 - val_accuracy: 0.9892\n",
      "Epoch 4/12\n",
      "469/469 [==============================] - 64s 137ms/step - loss: 0.0365 - accuracy: 0.9884 - val_loss: 0.0296 - val_accuracy: 0.9902\n",
      "Epoch 5/12\n",
      "469/469 [==============================] - 65s 138ms/step - loss: 0.0330 - accuracy: 0.9890 - val_loss: 0.0259 - val_accuracy: 0.9921\n",
      "Epoch 6/12\n",
      "469/469 [==============================] - 64s 136ms/step - loss: 0.0256 - accuracy: 0.9919 - val_loss: 0.0305 - val_accuracy: 0.9913\n",
      "Epoch 7/12\n",
      "469/469 [==============================] - 64s 137ms/step - loss: 0.0238 - accuracy: 0.9923 - val_loss: 0.0291 - val_accuracy: 0.9906\n",
      "Epoch 8/12\n",
      "469/469 [==============================] - 65s 138ms/step - loss: 0.0216 - accuracy: 0.9928 - val_loss: 0.0295 - val_accuracy: 0.9902\n",
      "Epoch 9/12\n",
      "469/469 [==============================] - 64s 136ms/step - loss: 0.0181 - accuracy: 0.9941 - val_loss: 0.0274 - val_accuracy: 0.9932\n",
      "Epoch 10/12\n",
      "469/469 [==============================] - 64s 136ms/step - loss: 0.0166 - accuracy: 0.9948 - val_loss: 0.0280 - val_accuracy: 0.9925\n",
      "Epoch 11/12\n",
      "469/469 [==============================] - 66s 140ms/step - loss: 0.0154 - accuracy: 0.9950 - val_loss: 0.0304 - val_accuracy: 0.9915\n",
      "Epoch 12/12\n",
      "469/469 [==============================] - 64s 136ms/step - loss: 0.0147 - accuracy: 0.9951 - val_loss: 0.0242 - val_accuracy: 0.9932\n",
      "Test loss: 0.024163419380784035\n",
      "Test accuracy: 0.9932000041007996\n"
     ]
    }
   ],
   "source": [
    "# 進行訓練, 訓練過程會存在 train_history 變數中\n",
    "train_history = model.fit(x_train, y_train,\n",
    "          batch_size=batch_size,\n",
    "          epochs=epochs,\n",
    "          verbose=1,\n",
    "          validation_data=(x_test, y_test))\n",
    "\n",
    "# 顯示損失函數、訓練成果(分數)\n",
    "score = model.evaluate(x_test, y_test, verbose=0)\n",
    "print('Test loss:', score[0])\n",
    "print('Test accuracy:', score[1])"
   ]
  },
  {
   "cell_type": "code",
   "execution_count": 9,
   "metadata": {
    "colab": {
     "base_uri": "https://localhost:8080/",
     "height": 318
    },
    "id": "T4ZTbly9HeUZ",
    "outputId": "93678f03-19a9-4b9f-ff8f-619b69e43bdb"
   },
   "outputs": [
    {
     "data": {
      "image/png": "[encoded data removed]",
      "text/plain": [
       "<Figure size 144x144 with 1 Axes>"
      ]
     },
     "metadata": {
      "needs_background": "light"
     },
     "output_type": "display_data"
    },
    {
     "data": {
      "image/png": "[encoded data removed]",
      "text/plain": [
       "<Figure size 144x144 with 1 Axes>"
      ]
     },
     "metadata": {
      "needs_background": "light"
     },
     "output_type": "display_data"
    },
    {
     "name": "stdout",
     "output_type": "stream",
     "text": [
      "1/1 [==============================] - 0s 286ms/step\n",
      "[3]\n"
     ]
    }
   ],
   "source": [
    "from PIL import Image\n",
    "import numpy as np\n",
    "\n",
    "#轉換成黑白圖片\n",
    "img = Image.open(\"2.png\").convert('1')\n",
    "plot_image(img)\n",
    "\n",
    "#顯示原圖\n",
    "new_img = img.resize((28,28))\n",
    "plot_image(new_img)\n",
    "\n",
    "#將圖片轉換為陣列\n",
    "img2arr = np.array(new_img)\n",
    "# img2arr = img2arr.astype('float32')\n",
    "# img2arr /= 255\n",
    "img2arr = np.expand_dims(img2arr, axis=0) #模擬出有很多圖片的樣子\n",
    "img2arr = np.expand_dims(img2arr, axis=3) #通道只有一層\n",
    "\n",
    "# img2arr.shape\n",
    "prediction = np.argmax(model.predict(img2arr), axis=-1)\n",
    "print(prediction)"
   ]
  },
  {
   "cell_type": "code",
   "execution_count": null,
   "metadata": {},
   "outputs": [],
   "source": []
  }
 ],
 "metadata": {
  "accelerator": "GPU",
  "colab": {
   "collapsed_sections": [],
   "name": "MNIST手寫辨識實作.ipynb",
   "provenance": []
  },
  "kernelspec": {
   "display_name": "Python 3 (ipykernel)",
   "language": "python",
   "name": "python3"
  },
  "language_info": {
   "codemirror_mode": {
    "name": "ipython",
    "version": 3
   },
   "file_extension": ".py",
   "mimetype": "text/x-python",
   "name": "python",
   "nbconvert_exporter": "python",
   "pygments_lexer": "ipython3",
   "version": "3.9.7"
  }
 },
 "nbformat": 4,
 "nbformat_minor": 1
}
